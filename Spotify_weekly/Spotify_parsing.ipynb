{
 "cells": [
  {
   "cell_type": "code",
   "execution_count": 1,
   "metadata": {},
   "outputs": [],
   "source": [
    "# данный скрипт: \n",
    "\n",
    "## - осуществляет парсинг еженедельного чарта Spotify Top 200 Russia\n",
    "\n",
    "## время запуска: утро пятницы\n",
    "## период чарта: пятница-четверг\n",
    "\n",
    "## - на выходе:\n",
    "### - обновляет уже хранящиеся данные прошлых недель в csv \n",
    "### - сохраняет html файл актуального чарта для демонстрации на сайте\n",
    "### - сохраняет json актуального чарта"
   ]
  },
  {
   "cell_type": "code",
   "execution_count": 1,
   "metadata": {},
   "outputs": [],
   "source": [
    "import pandas as pd\n",
    "import re\n",
    "import requests\n",
    "from bs4 import BeautifulSoup\n",
    "from time import sleep\n",
    "from random import randint\n",
    "import datetime\n",
    "from datetime import datetime, date, time, timezone\n",
    "from dateutil.relativedelta import relativedelta\n",
    "currentDT = datetime.now() "
   ]
  },
  {
   "cell_type": "markdown",
   "metadata": {},
   "source": [
    "### ПАРСИНГ: SPOTIFY WEEKLY TOP 200 RUSSIA"
   ]
  },
  {
   "cell_type": "code",
   "execution_count": 2,
   "metadata": {},
   "outputs": [],
   "source": [
    "############################## Сам парсинг #############################\n",
    "\n",
    "# базовая ссылка на последний актуальный еженедельный чарт по России\n",
    "base_url = 'https://spotifycharts.com/regional/ru/weekly/latest'\n",
    "r = requests.get(base_url)\n",
    "# на всякий случай поставим на паузу\n",
    "sleep(randint(1,3))\n",
    "soup = BeautifulSoup(r.text, 'html.parser')\n",
    "chart = soup.find('table', {'class': 'chart-table'})\n",
    "tbody = chart.find('tbody')\n",
    "all_rows = []\n",
    "\n",
    "\n",
    "# сам скрэйпинг\n",
    "for tr in tbody.find_all('tr'):\n",
    "    # позиция трека\n",
    "    rank_text = tr.find('td', {'class': 'chart-table-position'}).text\n",
    "    # артист\n",
    "    artist_text = tr.find('td', {'class': 'chart-table-track'}).find('span').text\n",
    "    artist_text = artist_text.replace('by ','').strip()\n",
    "    # название трека\n",
    "    title_text = tr.find('td', {'class': 'chart-table-track'}).find('strong').text\n",
    "    # кол-во стримов для трека\n",
    "    streams_text = tr.find('td', {'class': 'chart-table-streams'}).text\n",
    "    #cборка таблицы (цикл на случай парсинга нескольких чартов)\n",
    "    all_rows.append( [rank_text, title_text, artist_text, streams_text] )\n",
    "    \n",
    "# создаем читаемый датафрейм в pandas\n",
    "rus_spotify_top_200 = pd.DataFrame(all_rows, columns =['rank','title', \"artist\",'streams'])\n",
    "\n",
    "#date = дата скрейпинга!\n",
    "rus_spotify_top_200[\"date\"] = currentDT.strftime(\"%d/%m/%Y\")  \n",
    "\n",
    "# записываем неделю \n",
    "date_start = currentDT - relativedelta(days=+7)\n",
    "date_end = currentDT - relativedelta(days=+1)\n",
    "week = datetime.strftime(date_start,\"%d/%m/%y\") + \" - \" + datetime.strftime(date_end,\"%d/%m/%y\")\n",
    "rus_spotify_top_200[\"week\"] = week"
   ]
  },
  {
   "cell_type": "markdown",
   "metadata": {},
   "source": [
    "### ФОРМИРУЕМ ПОЛНЫЙ ЧАРТ"
   ]
  },
  {
   "cell_type": "code",
   "execution_count": 3,
   "metadata": {},
   "outputs": [],
   "source": [
    "# функция для подсчета количества недель, которые песня держится в чарте\n",
    "\n",
    "def weeks_in_chart(weekly_charts):\n",
    "    \n",
    "    df = weekly_charts\n",
    "    df[\"full_id\"] = df[\"title\"]+\"#bh#_#bh#\"+df[\"artist\"] # кодируем песню, чтобы избежать путаницы с одинаковыми названиями\n",
    "\n",
    "    return_df = pd.DataFrame(columns = ['title', 'artist', \"weeks_in_chart\"])\n",
    "\n",
    "    for i in set(list(df[\"full_id\"])):\n",
    "        s_df = df[df[\"full_id\"]==i] # таблица с одной песней\n",
    "        n_of_w = len(s_df)\n",
    "        add_df = pd.DataFrame()\n",
    "        add_df[\"weeks_in_chart\"] = [n_of_w]\n",
    "        add_df[\"title\"] = i.split(\"#bh#_#bh#\")[0]\n",
    "        add_df[\"artist\"] = i.split(\"#bh#_#bh#\")[1]\n",
    "        return_df=return_df.append(add_df, ignore_index=True)\n",
    "        \n",
    "    return return_df"
   ]
  },
  {
   "cell_type": "code",
   "execution_count": 4,
   "metadata": {},
   "outputs": [],
   "source": [
    "# пишем функцию, которая считает best position in chart, weeks in chart, change in rank [vs previous week]\n",
    "\n",
    "def metrics_delta(chart):\n",
    "    \n",
    "    #### best position\n",
    "    chart[\"rank\"] = chart[\"rank\"].astype(int)\n",
    "    best_pos = pd.DataFrame(chart.groupby(['title', 'artist']).agg({'rank' : 'min'}))\n",
    "    best_pos.reset_index(inplace=True)\n",
    "    best_pos.columns = ['title', 'artist', 'best_pos']\n",
    "    best_pos[\"best_pos\"] = best_pos[\"best_pos\"].astype('Int64') \n",
    "    \n",
    "    \n",
    "    \n",
    "    #### change in rank vs previous week\n",
    "    \n",
    "    chart_last_week = chart.loc[chart['week'] == chart['week'].values[-1]] # назначаем  последнюю неделю\n",
    "    chart_dropped  = chart.drop(chart[chart['week'] == chart['week'].values[-1]].index)\n",
    "    \n",
    "    # назначаем предыдущую неделю\n",
    "    if len(chart_dropped) == 0:\n",
    "        chart_previous_week = chart.loc[chart['week'] == chart['week'].values[1]]\n",
    "    else: chart_previous_week = chart_dropped.loc[chart_dropped['week'] == chart_dropped['week'].values[-1]]\n",
    "    \n",
    "    \n",
    "    chart_previous_week = chart_previous_week[['title', 'artist', 'rank']]\n",
    "    # ! chart_upd - данные по последней неделе\n",
    "    chart_upd = pd.merge(chart_last_week, chart_previous_week, how='left', on=['title', 'artist']) \n",
    "    chart_upd['delta_rank'] = (chart_upd['rank_y'] - chart_upd['rank_x']).astype('Int64') \n",
    "\n",
    "    \n",
    "    \n",
    "    \n",
    "    #number of weeks in chart (use weeks_in_chart() function)\n",
    "    chart_upd.drop(\"weeks_in_chart\", 1, inplace = True) #avoid duplicates in columns\n",
    "    chart_upd = pd.merge(chart_upd, weeks_in_chart(chart), how='left', on=['title', 'artist'])\n",
    "    \n",
    "    \n",
    "    # присоединяем данные о best_pos \n",
    "    chart_upd.drop(\"best_pos\", 1, inplace=True)\n",
    "    new_chart = pd.merge(chart_upd, best_pos, how='left', on=['title', 'artist'])\n",
    "    chart_last_week = new_chart.loc[new_chart['week'] == new_chart['week'].values[-1]]\n",
    "    \n",
    "    # чистим\n",
    "    chart_last_week = chart_last_week.rename(columns={'rank_x': 'rank'})\n",
    "    chart_last_week.drop('rank_y', 1, inplace=True)\n",
    "    \n",
    "    \n",
    "    return chart_last_week"
   ]
  },
  {
   "cell_type": "code",
   "execution_count": 5,
   "metadata": {},
   "outputs": [],
   "source": [
    "# функция для подсчета изменения прослушиваний\n",
    "def streams_delta_spot(chart): \n",
    "    \n",
    "    try:\n",
    "        chart['streams'] = chart['streams'].str.replace(\",\",\"\").astype(int)\n",
    "    except:\n",
    "        5+3\n",
    "        \n",
    "    chart_last_week = chart[chart['week'] == chart['week'].values[-1]]\n",
    "    chart_dropped  = chart.drop(chart[chart['week'] == chart['week'].values[-1]].index)\n",
    "    if len(chart_dropped) == 0:\n",
    "        chart_previous_week = chart.loc[chart['week'] == chart['week'].values[1]]\n",
    "    else: chart_previous_week = chart_dropped.loc[chart_dropped['week'] == chart_dropped['week'].values[-1]]\n",
    "    chart_previous_week = chart_previous_week[['title', 'artist', 'streams']]\n",
    "    chart_upd = pd.merge(chart_last_week, chart_previous_week, how='left', on=['title', 'artist'])\n",
    "    chart_upd[\"streams_y\"].fillna(0, inplace=True)\n",
    "    chart_upd['delta_streams'] = (chart_upd['streams_x'] - chart_upd['streams_y']).astype('Int64')\n",
    "    chart_upd = chart_upd[['title', 'artist', 'delta_streams']]\n",
    "    \n",
    "    return chart_upd"
   ]
  },
  {
   "cell_type": "code",
   "execution_count": 6,
   "metadata": {},
   "outputs": [],
   "source": [
    "# соединяем старые данные с новыми\n",
    "all_spotify = pd.read_csv(\"all_spotify.csv\")\n",
    "all_spotify = all_spotify.drop(all_spotify.columns[[0]], axis=1) # удаляем получающуюся после импорта лишнюю колонку \n",
    "frames = [all_spotify, rus_spotify_top_200]\n",
    "all_spotify = pd.concat(frames, sort=False) "
   ]
  },
  {
   "cell_type": "code",
   "execution_count": 7,
   "metadata": {},
   "outputs": [],
   "source": [
    "# подсчитываем все дополнительные показатели\n",
    "sp1 = streams_delta_spot(all_spotify) #count delta_streams\n",
    "spotify_curr_week = metrics_delta(all_spotify) #count other metrics\n",
    "spotify_curr_week.drop(\"delta_streams\", 1, inplace=True) #drop so that columns don't duplicate\n",
    "#merge delta_streams and other metrics\n",
    "spotify_curr_week = pd.merge(spotify_curr_week, sp1, how='left', on=['title', 'artist'])"
   ]
  },
  {
   "cell_type": "markdown",
   "metadata": {},
   "source": [
    "### ЭКСПОРТ "
   ]
  },
  {
   "cell_type": "code",
   "execution_count": 8,
   "metadata": {},
   "outputs": [],
   "source": [
    "### EXPORT TO JSON\n",
    "with open('current_spotify_json.json', 'w', encoding='utf-8') as file:\n",
    "    spotify_curr_week.to_json(file, force_ascii=False)"
   ]
  },
  {
   "cell_type": "code",
   "execution_count": 9,
   "metadata": {},
   "outputs": [],
   "source": [
    "### EXPORT TO HTML\n",
    "# сохраняем html для использования на сайте (т.е. через Make_weekly_charts.py впоследствии)\n",
    "spotify_curr_week_html=spotify_curr_week[[\"rank\", \"delta_rank\", \"best_pos\", \"title\", \"artist\", \"streams\", \"delta_streams\", \"weeks_in_chart\", \"week\"]]\n",
    "spotify_curr_week_html.columns = [\"Позиция\", \"Изменение позиции\", \"Лучшая позиция\", \"Название\", \"Артист\", \"Прослушивания\", \"Динамика прослушиваний\", \"Недель в чарте\", \"Неделя\"]\n",
    "spotify_curr_week_html.to_html(\"current_spotify_html.html\", encoding = \"utf-8\")"
   ]
  },
  {
   "cell_type": "code",
   "execution_count": 10,
   "metadata": {},
   "outputs": [],
   "source": [
    "### EXPORT TO CSV - (i.e. TO THE MAIN DATABASE)\n",
    "# берем имеющийся в корневой директории csv файл и обновляем его\n",
    "\n",
    "all_spotify = pd.read_csv(\"all_spotify.csv\")\n",
    "all_spotify = all_spotify.drop(all_spotify.columns[[0]], axis=1) # удаляем получающуюся после импорта лишнюю колонку \n",
    "frames = [all_spotify, spotify_curr_week]\n",
    "all_spotify = pd.concat(frames, sort=False)\n",
    "all_spotify.to_csv(\"all_spotify.csv\", encoding = \"utf-8\")"
   ]
  }
 ],
 "metadata": {
  "kernelspec": {
   "display_name": "Python 3",
   "language": "python",
   "name": "python3"
  },
  "language_info": {
   "codemirror_mode": {
    "name": "ipython",
    "version": 3
   },
   "file_extension": ".py",
   "mimetype": "text/x-python",
   "name": "python",
   "nbconvert_exporter": "python",
   "pygments_lexer": "ipython3",
   "version": "3.8.3"
  }
 },
 "nbformat": 4,
 "nbformat_minor": 4
}
