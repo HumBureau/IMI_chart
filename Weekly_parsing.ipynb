{
 "cells": [
  {
   "cell_type": "code",
   "execution_count": 177,
   "metadata": {},
   "outputs": [],
   "source": [
    "#данный скрипт: \n",
    "\n",
    "## - осуществляет парсинг еженедельных чартов\n",
    "### - через requests: Spotify\n",
    "### - через selenium: Youtube\n",
    "\n",
    "## - должен запускаться каждую неделю один раз в неделю\n",
    "### - и Youtube, и spotify начинают неделю в пятницу и заканчивают в четверг\n",
    "### - поэтому запускать данный скрипт надо ранним утром в пятницу\n",
    "\n",
    "## - на выходе:\n",
    "### - обновляет уже хранящиеся данные в csv файлах каждого стриминга, лежащие в корневой директории"
   ]
  },
  {
   "cell_type": "code",
   "execution_count": 234,
   "metadata": {},
   "outputs": [],
   "source": [
    "import pandas as pd\n",
    "import re\n",
    "import requests\n",
    "from bs4 import BeautifulSoup\n",
    "from time import sleep\n",
    "from random import randint\n",
    "import datetime\n",
    "from datetime import datetime, date, time, timezone\n",
    "from dateutil.relativedelta import relativedelta"
   ]
  },
  {
   "cell_type": "code",
   "execution_count": 179,
   "metadata": {},
   "outputs": [
    {
     "name": "stdout",
     "output_type": "stream",
     "text": [
      "Requirement already satisfied: selenium in /Users/sergey/opt/anaconda3/lib/python3.8/site-packages (3.141.0)\n",
      "Requirement already satisfied: urllib3 in /Users/sergey/opt/anaconda3/lib/python3.8/site-packages (from selenium) (1.25.9)\n",
      "Requirement already satisfied: chromedriver in /Users/sergey/opt/anaconda3/lib/python3.8/site-packages (2.24.1)\n"
     ]
    }
   ],
   "source": [
    "#установка и импорт selenium\n",
    "!pip install selenium\n",
    "from selenium import webdriver as wb\n",
    "!pip install chromedriver"
   ]
  },
  {
   "cell_type": "code",
   "execution_count": 211,
   "metadata": {},
   "outputs": [],
   "source": [
    "#задаем команду для получения даты\n",
    "currentDT = datetime.datetime.now() "
   ]
  },
  {
   "cell_type": "code",
   "execution_count": 229,
   "metadata": {},
   "outputs": [],
   "source": [
    "# технический код, созданный для момента, когда не было исходных файлов в директории\n",
    "#for i in [\"spotify\", \"youtube\"]:\n",
    "#    cols = ['rank', 'title', 'artist', \"date\", \"streams\"]\n",
    "#    name = \"all_\" + i + \".csv\" \n",
    "#    pd.DataFrame(columns = cols).to_csv(name, encoding= \"utf-8\")"
   ]
  },
  {
   "cell_type": "markdown",
   "metadata": {},
   "source": [
    "### Youtube Top 100 Tracks Russia"
   ]
  },
  {
   "cell_type": "code",
   "execution_count": 230,
   "metadata": {},
   "outputs": [],
   "source": [
    "#selenium-код\n",
    "url='https://charts.youtube.com/charts/TopSongs/ru?hl=ru'\n",
    "br = wb.Chrome(\"/Users/sergey/chromedriver\") #заменить на директорию, в которой лежит нужный драйвер \n",
    "br.get(url)\n",
    "sleep(randint(3,4))\n",
    "generated_html = br.page_source\n",
    "br.quit()"
   ]
  },
  {
   "cell_type": "code",
   "execution_count": 235,
   "metadata": {},
   "outputs": [],
   "source": [
    "#работаем с html\n",
    "soup = BeautifulSoup(generated_html, 'html.parser')\n",
    "\n",
    "all_together = soup.findAll('span', attrs={'class':'ytmc-ellipsis-text style-scope'})\n",
    "songs = video_and_artists[2:][0::2]\n",
    "artists = video_and_artists[2:][1::2]\n",
    "\n",
    "songs_clean = [i.get_text() for i in songs]\n",
    "artists_clean = [i.get_text() for i in artists]\n",
    "\n",
    "\n",
    "views = soup.findAll('span', attrs={'class':'style-scope ytmc-chart-table'})[4::5]\n",
    "views_clean = [i.get_text() for i in views]\n",
    "\n",
    "youtube_tracks_top_100 = pd.DataFrame()\n",
    "youtube_tracks_top_100['title'] = songs_clean\n",
    "youtube_tracks_top_100['artist'] = artists_clean\n",
    "youtube_tracks_top_100['streams'] = views_clean\n",
    "youtube_tracks_top_100['rank'] = youtube_tracks_top_100.reset_index().index +1\n",
    "youtube_tracks_top_100= youtube_tracks_top_100[['rank', 'title', 'artist', 'streams']]\n",
    "youtube_tracks_top_100[\"date\"] = currentDT.strftime(\"%d/%m/%Y\")  \n",
    "\n",
    "#записываем неделю \n",
    "date_start = currentDT - relativedelta(days=+7)\n",
    "date_end = currentDT - relativedelta(days=+1)\n",
    "week = datetime.strftime(date_start,\"%d/%m/%y\") + \" - \" + datetime.strftime(date_end,\"%d/%m/%y\")\n",
    "youtube_tracks_top_100[\"week\"] = week\n"
   ]
  },
  {
   "cell_type": "code",
   "execution_count": 240,
   "metadata": {},
   "outputs": [],
   "source": [
    "#сохраняем html для использования на сайте (через Make_weekly_charts.py)\n",
    "youtube_tracks_top_100.to_html(\"current_youtube_html.html\", encoding = \"utf-8\")"
   ]
  },
  {
   "cell_type": "code",
   "execution_count": 236,
   "metadata": {},
   "outputs": [],
   "source": [
    "#берем имеющийся в корневой директории csv файл и обновляем его\n",
    "\n",
    "all_youtube = pd.read_csv(\"all_youtube.csv\")\n",
    "all_youtube = all_youtube.drop(all_youtube.columns[[0]], axis=1) #удаляем получающуюся после импорта лишнюю колонку \n",
    "frames = [all_youtube, youtube_tracks_top_100]\n",
    "all_youtube = pd.concat(frames, sort=False)\n",
    "all_youtube.to_csv(\"all_youtube.csv\", encoding = \"utf-8\")"
   ]
  },
  {
   "cell_type": "markdown",
   "metadata": {},
   "source": [
    "### Spotify"
   ]
  },
  {
   "cell_type": "code",
   "execution_count": 237,
   "metadata": {},
   "outputs": [],
   "source": [
    "#базовая ссылка на последний актуальный еженедельный чарт по России\n",
    "base_url = 'https://spotifycharts.com/regional/ru/weekly/latest'\n",
    "r = requests.get(base_url)\n",
    "#на всякий случай поставим на паузу\n",
    "sleep(randint(1,3))\n",
    "soup = BeautifulSoup(r.text, 'html.parser')\n",
    "chart = soup.find('table', {'class': 'chart-table'})\n",
    "tbody = chart.find('tbody')\n",
    "all_rows = []\n",
    "\n",
    "\n",
    "#сам скрэйпинг\n",
    "for tr in tbody.find_all('tr'):\n",
    "    #позиция трека\n",
    "    rank_text = tr.find('td', {'class': 'chart-table-position'}).text\n",
    "    #артист\n",
    "    artist_text = tr.find('td', {'class': 'chart-table-track'}).find('span').text\n",
    "    artist_text = artist_text.replace('by ','').strip()\n",
    "    #название трека\n",
    "    title_text = tr.find('td', {'class': 'chart-table-track'}).find('strong').text\n",
    "    #кол-во стримов для трека\n",
    "    streams_text = tr.find('td', {'class': 'chart-table-streams'}).text\n",
    "    #cборка таблицы (цикл на случай парсинга нескольких чартов)\n",
    "    all_rows.append( [rank_text, title_text, artist_text, streams_text] )\n",
    "    \n",
    "#создаем читаемый датафрейм в pandas\n",
    "rus_spotify_top_200 = pd.DataFrame(all_rows, columns =['rank','title', \"artist\",'streams'])\n",
    "rus_spotify_top_200[\"date\"] = currentDT.strftime(\"%d/%m/%Y\")  \n",
    "\n",
    "#записываем неделю \n",
    "date_start = currentDT - relativedelta(days=+7)\n",
    "date_end = currentDT - relativedelta(days=+1)\n",
    "week = datetime.strftime(date_start,\"%d/%m/%y\") + \" - \" + datetime.strftime(date_end,\"%d/%m/%y\")\n",
    "rus_spotify_top_200[\"week\"] = week\n",
    "\n"
   ]
  },
  {
   "cell_type": "code",
   "execution_count": 238,
   "metadata": {},
   "outputs": [],
   "source": [
    "#сохраняем html spotify для использования на сайте (через Make_weekly_charts.py)\n",
    "rus_spotify_top_200.to_html(\"current_spotify_html.html\", encoding = \"utf-8\")"
   ]
  },
  {
   "cell_type": "code",
   "execution_count": 239,
   "metadata": {},
   "outputs": [],
   "source": [
    "#берем имеющийся в корневой директории csv файл и обновляем его\n",
    "\n",
    "all_spotify = pd.read_csv(\"all_spotify.csv\")\n",
    "all_spotify = all_spotify.drop(all_spotify.columns[[0]], axis=1) #удаляем получающуюся после импорта лишнюю колонку \n",
    "frames = [all_spotify, rus_spotify_top_200]\n",
    "all_spotify = pd.concat(frames, sort=False)\n",
    "all_spotify.to_csv(\"all_spotify.csv\", encoding = \"utf-8\")"
   ]
  }
 ],
 "metadata": {
  "kernelspec": {
   "display_name": "Python 3",
   "language": "python",
   "name": "python3"
  },
  "language_info": {
   "codemirror_mode": {
    "name": "ipython",
    "version": 3
   },
   "file_extension": ".py",
   "mimetype": "text/x-python",
   "name": "python",
   "nbconvert_exporter": "python",
   "pygments_lexer": "ipython3",
   "version": "3.8.3"
  }
 },
 "nbformat": 4,
 "nbformat_minor": 4
}
