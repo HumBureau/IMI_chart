{
 "cells": [
  {
   "cell_type": "code",
   "execution_count": null,
   "metadata": {},
   "outputs": [],
   "source": [
    "# данный скрипт:\n",
    "\n",
    "# парсит ежедневный чарт Спотифай 200\n",
    "# это нужно для оценки популярности песен, не попавших в другие ежедневные чарты в некоторые дни недели\n",
    "# речь идет других о ежедневных чартах (Apple Music, VK, Deezer) и о рассчитывании их еженедельных чартов\n",
    "# причина - в спотифае есть 200 строк, а в вышеупомянутых - 100.\n",
    "\n",
    "## - должен запускаться каждый день один раз в сутки в 15:40 по мск. \n",
    "\n",
    "# на выходе:\n",
    "## обновляет all_daily_spotify.csv\n",
    "### затем этот файл используется в Make_daily_charts.py"
   ]
  },
  {
   "cell_type": "code",
   "execution_count": 1,
   "metadata": {},
   "outputs": [],
   "source": [
    "import pandas as pd\n",
    "import re\n",
    "import requests\n",
    "from bs4 import BeautifulSoup\n",
    "from time import sleep\n",
    "from random import randint\n",
    "from datetime import datetime, date, time, timezone\n",
    "from dateutil.relativedelta import relativedelta"
   ]
  },
  {
   "cell_type": "code",
   "execution_count": 2,
   "metadata": {},
   "outputs": [],
   "source": [
    "# задаем команду для получения даты\n",
    "currentDT = datetime.now() "
   ]
  },
  {
   "cell_type": "code",
   "execution_count": 3,
   "metadata": {},
   "outputs": [],
   "source": [
    "# базовая ссылка на последний актуальный еженедельный чарт по России\n",
    "base_url = 'https://spotifycharts.com/regional/ru/daily/latest'\n",
    "r = requests.get(base_url)\n",
    "# на всякий случай поставим на паузу\n",
    "sleep(randint(1,3))\n",
    "soup = BeautifulSoup(r.text, 'html.parser')\n",
    "chart = soup.find('table', {'class': 'chart-table'})\n",
    "tbody = chart.find('tbody')\n",
    "all_rows = []\n",
    "\n",
    "\n",
    "# сам скрэйпинг\n",
    "for tr in tbody.find_all('tr'):\n",
    "    # позиция трека\n",
    "    rank_text = tr.find('td', {'class': 'chart-table-position'}).text\n",
    "    # артист\n",
    "    artist_text = tr.find('td', {'class': 'chart-table-track'}).find('span').text\n",
    "    artist_text = artist_text.replace('by ','').strip()\n",
    "    # название трека\n",
    "    title_text = tr.find('td', {'class': 'chart-table-track'}).find('strong').text\n",
    "    # кол-во стримов для трека\n",
    "    streams_text = tr.find('td', {'class': 'chart-table-streams'}).text\n",
    "    #cборка таблицы (цикл на случай парсинга нескольких чартов)\n",
    "    all_rows.append( [rank_text, title_text, artist_text, streams_text] )\n",
    "    \n",
    "# создаем читаемый датафрейм в pandas\n",
    "daily_spotify_top_200 = pd.DataFrame(all_rows, columns =['rank','title', \"artist\",'streams'])\n",
    "# записываемая дата = предыдущий день! (как и значится в самом спотифае)\n",
    "date = currentDT - relativedelta(days=+1)\n",
    "daily_spotify_top_200[\"date\"] = datetime.strftime(date,\"%d/%m/%Y\")  "
   ]
  },
  {
   "cell_type": "code",
   "execution_count": 4,
   "metadata": {},
   "outputs": [],
   "source": [
    "# берем имеющийся csv файл и обновляем его\n",
    "\n",
    "all_daily_spotify = pd.read_csv(\"all_daily_spotify.csv\")\n",
    "all_daily_spotify = all_daily_spotify.drop(all_daily_spotify.columns[[0]], axis=1) # удаляем получающуюся после импорта лишнюю колонку \n",
    "frames = [all_daily_spotify, daily_spotify_top_200]\n",
    "all_daily_spotify = pd.concat(frames, sort=False)\n",
    "all_daily_spotify.to_csv(\"all_daily_spotify.csv\", encoding = \"utf-8\")"
   ]
  },
  {
   "cell_type": "code",
   "execution_count": null,
   "metadata": {},
   "outputs": [],
   "source": []
  }
 ],
 "metadata": {
  "kernelspec": {
   "display_name": "Python 3",
   "language": "python",
   "name": "python3"
  },
  "language_info": {
   "codemirror_mode": {
    "name": "ipython",
    "version": 3
   },
   "file_extension": ".py",
   "mimetype": "text/x-python",
   "name": "python",
   "nbconvert_exporter": "python",
   "pygments_lexer": "ipython3",
   "version": "3.8.3"
  }
 },
 "nbformat": 4,
 "nbformat_minor": 4
}
