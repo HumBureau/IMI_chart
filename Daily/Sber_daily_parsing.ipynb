{
 "cells": [
  {
   "cell_type": "code",
   "execution_count": null,
   "metadata": {},
   "outputs": [],
   "source": [
    "# Данный скрипт ежедневно скрейпит топ 100 Сберзвука\n",
    "\n",
    "# время запуска: 18:25 МСК\n",
    "# ВАЖНО: записываемая дата = день скрейпинга"
   ]
  },
  {
   "cell_type": "code",
   "execution_count": null,
   "metadata": {},
   "outputs": [],
   "source": [
    "import pandas as pd\n",
    "import re\n",
    "import requests\n",
    "from bs4 import BeautifulSoup\n",
    "from time import sleep\n",
    "from random import randint\n",
    "from datetime import datetime\n",
    "from dateutil.relativedelta import relativedelta\n",
    "from os import path\n",
    "import json"
   ]
  },
  {
   "cell_type": "code",
   "execution_count": null,
   "metadata": {},
   "outputs": [],
   "source": [
    "def get_genre_label(url):\n",
    "    r = requests.get(url)\n",
    "    soup = BeautifulSoup(r.text, 'html.parser') \n",
    "    nd = soup.findAll('script', attrs={'id':'__NEXT_DATA__'})[0]\n",
    "    textValue = nd.contents[0]\n",
    "    jsonValue = '{%s}' % (textValue.partition('{')[2].rpartition('}')[0],)\n",
    "    value = json.loads(jsonValue)\n",
    "    genre = \", \".join([i['name'] for i in value['props']['pageProps']['release']['genres']])\n",
    "    label = value['props']['pageProps']['release']['label']['title']\n",
    "    \n",
    "    return genre, label"
   ]
  },
  {
   "cell_type": "code",
   "execution_count": null,
   "metadata": {},
   "outputs": [],
   "source": [
    "currentDT = datetime.now() "
   ]
  },
  {
   "cell_type": "code",
   "execution_count": null,
   "metadata": {},
   "outputs": [],
   "source": [
    "base_url = 'https://sber-zvuk.com/top100'\n",
    "r = requests.get(base_url)\n",
    "\n",
    "soup = BeautifulSoup(r.text, 'html.parser')\n",
    "s = str(soup)\n",
    "nd = soup.findAll('script', attrs={'id':'__NEXT_DATA__'})[0]\n",
    "textValue = nd.contents[0]\n",
    "jsonValue = '{%s}' % (textValue.partition('{')[2].rpartition('}')[0],)\n",
    "value = json.loads(jsonValue)\n",
    "\n",
    "# некрасивая и хрупкая строчка вызвана тем, что в словаре чарт лежит под ключом равным (возможно изменяемому) id плейлиста\n",
    "full_chart_data_list = list(value['props']['pageProps']['grid']['playlists'].items())[0][1][\"tracks\"]\n",
    "\n",
    "songs = [i[\"title\"] for i in full_chart_data_list]\n",
    "artists = [i[\"credits\"] for i in full_chart_data_list]\n",
    "release_ids = [str(i['release_id']) for i in full_chart_data_list]\n",
    "\n",
    "genres = []\n",
    "labels = []\n",
    "for i in release_ids:\n",
    "    url= 'https://sber-zvuk.com/release/'+i\n",
    "    outp = get_genre_label(url)\n",
    "    genres.append(outp[0])\n",
    "    labels.append(outp[1])\n",
    "\n",
    "cols = [\"rank\", \"title\", \"artist\", 'date', 'genre', 'label']\n",
    "\n",
    "data = dict(zip(cols, [[i for i in range(1, len(songs)+1)], songs, artists, [datetime.strftime(currentDT,\"%d/%m/%Y\") for i in range(1, len(songs)+1)],genres,labels]))\n",
    "sber = pd.DataFrame(data)"
   ]
  },
  {
   "cell_type": "code",
   "execution_count": null,
   "metadata": {},
   "outputs": [],
   "source": [
    "date = currentDT \n",
    "\n",
    "# берем имеющийся csv файл и обновляем его\n",
    "if path.exists(\"all_sber.csv\") == True:\n",
    "    all_sber = pd.read_csv(\"all_sber.csv\")\n",
    "    all_sber = all_sber.drop(all_sber.columns[[0]], axis=1) # удаляем получающуюся после импорта лишнюю колонку \n",
    "    \n",
    "    # чистим дубликаты (опыт показал, что они бывают)\n",
    "    all_sber.drop_duplicates(inplace= True)\n",
    "    all_sber.reset_index(inplace=True)\n",
    "    all_sber.drop(all_sber.columns[[0]], axis=1, inplace=True)\n",
    "    \n",
    "    if datetime.strftime(date, \"%d/%m/%Y\") in set(all_sber[\"date\"]):\n",
    "        print(date, \": this date's SBER chart is already in the data. I expect the new script to be superior so I am overwriting the old data.\")\n",
    "        all_sber = all_sber[all_sber[\"date\"]!=datetime.strftime(date,\"%d/%m/%Y\")]\n",
    "    else:\n",
    "        print(date, \": this date's SBER chart is not in our data yet. I proceed to save it.\")\n",
    "    \n",
    "    frames = [all_sber, sber]\n",
    "    all_sber = pd.concat(frames, sort=False, ignore_index=True)\n",
    "    all_sber.to_csv(\"all_sber.csv\", encoding = \"utf-8\")\n",
    "else:\n",
    "    sber.to_csv(\"all_sber.csv\", encoding = \"utf-8\")"
   ]
  }
 ],
 "metadata": {
  "kernelspec": {
   "display_name": "Python 3",
   "language": "python",
   "name": "python3"
  },
  "language_info": {
   "codemirror_mode": {
    "name": "ipython",
    "version": 3
   },
   "file_extension": ".py",
   "mimetype": "text/x-python",
   "name": "python",
   "nbconvert_exporter": "python",
   "pygments_lexer": "ipython3",
   "version": "3.8.3"
  }
 },
 "nbformat": 4,
 "nbformat_minor": 4
}
