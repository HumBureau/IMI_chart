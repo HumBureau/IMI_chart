{
 "cells": [
  {
   "cell_type": "code",
   "execution_count": 1,
   "metadata": {},
   "outputs": [],
   "source": [
    "# данный скрипт проходит СМС авторизацию ВК и сохраняет куки"
   ]
  },
  {
   "cell_type": "code",
   "execution_count": 2,
   "metadata": {},
   "outputs": [],
   "source": [
    "import re\n",
    "import requests\n",
    "from time import sleep\n",
    "from random import randint\n",
    "from selenium import webdriver\n",
    "from webdriver_manager.firefox import GeckoDriverManager\n",
    "import pickle \n",
    "from selenium.webdriver.firefox.options import Options"
   ]
  },
  {
   "cell_type": "code",
   "execution_count": null,
   "metadata": {},
   "outputs": [],
   "source": [
    "##### LOGIN WITH AUTH CODE\n",
    "options = Options()\n",
    "options.add_argument('-headless')\n",
    "br = webdriver.Firefox(executable_path=GeckoDriverManager().install(), options = options)\n",
    "br.get('http://vk.com/')\n",
    "sleep(9)  # Time to enter credentials\n",
    "e_mail_window = br.find_element_by_css_selector(\"#index_email\")\n",
    "password_window = br.find_element_by_css_selector(\"#index_pass\")\n",
    "login_vk = input('Введите логин: ')  \n",
    "password_vk = input('Введите пароль: ') \n",
    "e_mail_window.send_keys(login_vk)\n",
    "password_window.send_keys(password_vk)\n",
    "button1 = br.find_element_by_xpath('//*[(@id = \"index_login_button\")]')\n",
    "button1.click()\n",
    "\n",
    "if br.current_url == \"https://vk.com/login?act=authcheck\":\n",
    "    print(\"script is forced to go through SMS authorisation\")\n",
    "    code = input(\"enter authorisation code from SMS: \")\n",
    "    code_window = br.find_element_by_css_selector(\"#authcheck_code\")\n",
    "    code_btn = br.find_element_by_css_selector(\"#login_authcheck_submit_btn\")\n",
    "    code_window.send_keys(code)\n",
    "    code_btn.click()\n",
    "    sleep(2)\n",
    "    pickle.dump(br.get_cookies() , open(\"vkcooks.pkl\",\"wb\")) \n",
    "    print('cookies are saved to vkcooks.pkl')\n",
    "    \n",
    "else:\n",
    "    print(\"don't know why, but no SMS authorisation this time\")\n",
    "    if br.current_url == \"https://vk.com/feed\":\n",
    "        print(\"succesful login\")\n",
    "        sleep(2)\n",
    "        pickle.dump(br.get_cookies() , open(\"vkcooks.pkl\",\"wb\")) \n",
    "        print('cookies are saved to vkcooks.pkl')\n",
    "    else:\n",
    "        print(\"unsuccesful login. reason unknown.\")"
   ]
  }
 ],
 "metadata": {
  "kernelspec": {
   "display_name": "Python 3",
   "language": "python",
   "name": "python3"
  },
  "language_info": {
   "codemirror_mode": {
    "name": "ipython",
    "version": 3
   },
   "file_extension": ".py",
   "mimetype": "text/x-python",
   "name": "python",
   "nbconvert_exporter": "python",
   "pygments_lexer": "ipython3",
   "version": "3.8.3"
  }
 },
 "nbformat": 4,
 "nbformat_minor": 4
}
