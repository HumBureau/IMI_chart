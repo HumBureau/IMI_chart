{
 "cells": [
  {
   "cell_type": "code",
   "execution_count": 19,
   "metadata": {},
   "outputs": [],
   "source": [
    "#данный скрипт:\n",
    "\n",
    "## парсит чарт Deezer (https://www.deezer.com/en/playlist/1116189381)\n",
    "## периодичность - 20 минут \n",
    "### все это нужно потому, что чарт не обновляется в известное фиксированное время\n",
    "\n",
    "# Время запуска скрипта: 00:01 каждый день\n",
    "\n",
    "#на выходе:\n",
    "## если находит новый чарт, обновляет csv all_deezer"
   ]
  },
  {
   "cell_type": "code",
   "execution_count": 5,
   "metadata": {},
   "outputs": [],
   "source": [
    "import pandas as pd\n",
    "import re\n",
    "import requests\n",
    "from bs4 import BeautifulSoup\n",
    "from time import sleep\n",
    "from random import randint\n",
    "from dateutil.relativedelta import relativedelta\n",
    "from datetime import datetime"
   ]
  },
  {
   "cell_type": "code",
   "execution_count": null,
   "metadata": {},
   "outputs": [],
   "source": [
    "#грузим данные за предыдущий день\n",
    "all_deezer = pd.read_csv(\"all_deezer.csv\")\n",
    "all_deezer = all_deezer.drop(all_deezer.columns[[0]], axis=1) #удаляем получающуюся после импорта лишнюю колонку \n",
    "old_df=all_deezer[-100:]\n",
    "o_l = list(old_df[\"title\"])\n",
    "    \n",
    "    \n",
    "    #базовая ссылка на последний актуальный ежедневный чарт по России\n",
    "request_deezer = requests.get('https://api.deezer.com/playlist/1116189381') #ссылка на постоянный плейлист\n",
    "deezer_chart_json = request_deezer.json() #через API получаем json \n",
    "new_df = pd.DataFrame(deezer_chart_json['tracks']['data']) #выбираем только список треков\n",
    "artists_deezer_top = [] #поскольку имена артистов \"запакованы\", осуществляем распаковку через цикл и заново приклеиваем к датафрейму\n",
    "for i in range(0, 100):\n",
    "    artists_deezer_top.append(deezer_chart_json['tracks']['data'][i]['artist']['name'])\n",
    "new_df['artist'] = artists_deezer_top\n",
    "new_df['rank'] = new_df.reset_index().index +1 \n",
    "new_df = new_df[['rank', 'title', 'artist']]\n",
    "    \n",
    "n_l = list(new_df[\"title\"])   \n",
    "        \n",
    "        #новый ли тот чат, который мы запарсили?\n",
    "if o_l != n_l:           \n",
    "            \n",
    "    # задаем дату\n",
    "    date = datetime.now() \n",
    "    new_df[\"date\"] = datetime.strftime(date,\"%d/%m/%Y\")  \n",
    "            \n",
    "            #вписываем данные в csv\n",
    "    frames = [all_deezer, new_df]\n",
    "    all_deezer = pd.concat(frames, sort=False)\n",
    "    all_deezer.to_csv(\"all_deezer.csv\", encoding = \"utf-8\")\n",
    "    \n",
    "    print(\"New Deezer chart is found. No more scraping for today!\")\n",
    "            \n",
    "else:\n",
    "    print(\"Keep scraping. No chart found yet.\")\n",
    "            "
   ]
  }
 ],
 "metadata": {
  "kernelspec": {
   "display_name": "Python 3",
   "language": "python",
   "name": "python3"
  },
  "language_info": {
   "codemirror_mode": {
    "name": "ipython",
    "version": 3
   },
   "file_extension": ".py",
   "mimetype": "text/x-python",
   "name": "python",
   "nbconvert_exporter": "python",
   "pygments_lexer": "ipython3",
   "version": "3.8.3"
  }
 },
 "nbformat": 4,
 "nbformat_minor": 4
}
