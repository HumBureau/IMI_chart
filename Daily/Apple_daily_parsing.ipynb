{
 "cells": [
  {
   "cell_type": "code",
   "execution_count": null,
   "metadata": {},
   "outputs": [],
   "source": [
    "# данный скрипт: \n",
    "\n",
    "\n",
    "## - осуществляет парсинг ежедневных чартов\n",
    "### - через requests: Apple Music\n",
    "\n",
    "## - должен запускаться каждый день один раз в сутки. Самое раннее - в 11:30 утра.\n",
    "\n",
    "## Справка: время обновления исходных чартов.\n",
    "### Apple Music: 12 a.m. PST  =  10 a.m. Moscow (летом) = 11 a.m. Moscow (зимой)\n",
    "#### => обновлять в 11:30 утра по Москве\n",
    "\n",
    "\n",
    "## - на выходе:\n",
    "### - обновляет all_apple.csv"
   ]
  },
  {
   "cell_type": "code",
   "execution_count": 1,
   "metadata": {},
   "outputs": [],
   "source": [
    "import pandas as pd\n",
    "import re\n",
    "import requests\n",
    "from bs4 import BeautifulSoup\n",
    "from time import sleep\n",
    "from random import randint\n",
    "from datetime import datetime\n",
    "from dateutil.relativedelta import relativedelta"
   ]
  },
  {
   "cell_type": "code",
   "execution_count": 2,
   "metadata": {
    "scrolled": true
   },
   "outputs": [],
   "source": [
    "# задаем команду для получения даты\n",
    "currentDT = datetime.now() "
   ]
  },
  {
   "cell_type": "markdown",
   "metadata": {},
   "source": [
    "### Apple Music"
   ]
  },
  {
   "cell_type": "code",
   "execution_count": 3,
   "metadata": {},
   "outputs": [],
   "source": [
    "base_url = 'https://music.apple.com/ru/playlist/top-100-russia/pl.728bd30a9247487c80a483f4168a9dcd'\n",
    "r = requests.get(base_url)\n",
    "sleep(randint(1,3))\n",
    "soup = BeautifulSoup(r.text, 'html.parser')\n",
    "\n",
    "all_texts = soup.findAll('div', attrs={'class':\"song-name-wrapper\"})\n",
    "\n",
    "a_l=[]\n",
    "s_l=[]\n",
    "\n",
    "for i in all_texts:\n",
    "    # check if empty artist name\n",
    "    if len(i.findAll('div', attrs={'class':'by-line typography-caption'})) == 0:\n",
    "        a = \"\"\n",
    "        a_l.append(a)\n",
    "    else:\n",
    "        a = i.findAll('div', attrs={'class':'by-line typography-caption'})\n",
    "        ar_l = [j.rstrip().lstrip() for j in a[0].get_text().rstrip().lstrip().split(\",\")]\n",
    "        a = \", \".join(ar_l)\n",
    "        a_l.append(a)\n",
    "    s = i.findAll('div', attrs={'class':'song-name typography-label'})[0].get_text()\n",
    "    s = s.replace(\"\\n\", \"\")\n",
    "    s = s.replace(\"[\", \"\")\n",
    "    s = s.replace(\"]\", \"\")\n",
    "    s = s.strip(\" \")\n",
    "    s_l.append(s)\n",
    "    alb_l = i.findAll('div', attrs={'class':'song-album-wrapper'})\n",
    "\n",
    "apple_music_top_100_daily = pd.DataFrame()\n",
    "apple_music_top_100_daily['title'] = s_l\n",
    "apple_music_top_100_daily['artist'] = a_l\n",
    "apple_music_top_100_daily['rank'] = apple_music_top_100_daily.reset_index().index +1\n",
    "apple_music_top_100_daily = apple_music_top_100_daily[['rank', 'title', 'artist']]\n",
    "\n",
    "# дата = предыдущий день (относительно дня скрейпинга)\n",
    "date = currentDT - relativedelta(days=+1)\n",
    "apple_music_top_100_daily[\"date\"] = datetime.strftime(date,\"%d/%m/%Y\")  \n"
   ]
  },
  {
   "cell_type": "code",
   "execution_count": 23,
   "metadata": {},
   "outputs": [],
   "source": [
    "# добавляем лейблы\n",
    "\n",
    "# получаем ссылки на страницы с альбомами\n",
    "alb_l = soup.findAll('div', attrs={'class':'song-album-wrapper'})\n",
    "alb_l = [i.a[\"href\"] for i in alb_l]\n",
    "\n",
    "labels_l = []\n",
    "for i in alb_l:\n",
    "    base_url = i\n",
    "    r = requests.get(base_url)\n",
    "    sleep(randint(1,3))\n",
    "    soup = BeautifulSoup(r.text, 'html.parser')\n",
    "    try:\n",
    "        labels_l.append(soup.findAll('p', attrs={'class':'song-copyright typography-footnote-emphasized'})[0].get_text())\n",
    "    else:\n",
    "        print(\"label not found\")\n",
    "        labels_l.append(\"\")\n",
    "\n",
    "apple_music_top_100_daily[\"label\"] = labels_l"
   ]
  },
  {
   "cell_type": "code",
   "execution_count": null,
   "metadata": {},
   "outputs": [],
   "source": [
    "# берем имеющийся csv файл и обновляем его\n",
    "\n",
    "all_apple = pd.read_csv(\"all_apple.csv\")\n",
    "all_apple = all_apple.drop(all_apple.columns[[0]], axis=1) # удаляем получающуюся после импорта лишнюю колонку \n",
    "\n",
    "# чистим дубликаты (опыт показал, что они бывают)\n",
    "all_apple.drop_duplicates(inplace= True)\n",
    "all_apple.reset_index(inplace=True)\n",
    "all_apple.drop(all_apple.columns[[0]], axis=1, inplace=True)\n",
    "\n",
    "\n",
    "now = datetime.now()\n",
    "\n",
    "# проверяем, не сохраняли ли мы уже данные за этот день:\n",
    "if datetime.strftime(date, \"%d/%m/%Y\") in set(all_apple[\"date\"]):\n",
    "    print(now, \": this date's Apple Music data is already saved. Not saving new data.\")\n",
    "else:\n",
    "    print(now, \": this date's Apple Music chart is not in our data yet. I proceed to save it and export to csv.\")\n",
    "    frames = [all_apple, apple_music_top_100_daily]\n",
    "    all_apple = pd.concat(frames, sort=False)\n",
    "    all_apple.reset_index(inplace = True)\n",
    "    all_apple = all_apple.drop(all_apple.columns[[0]], axis=1)  \n",
    "    all_apple.to_csv(\"all_apple.csv\", encoding = \"utf-8\")"
   ]
  }
 ],
 "metadata": {
  "kernelspec": {
   "display_name": "Python 3",
   "language": "python",
   "name": "python3"
  },
  "language_info": {
   "codemirror_mode": {
    "name": "ipython",
    "version": 3
   },
   "file_extension": ".py",
   "mimetype": "text/x-python",
   "name": "python",
   "nbconvert_exporter": "python",
   "pygments_lexer": "ipython3",
   "version": "3.8.3"
  }
 },
 "nbformat": 4,
 "nbformat_minor": 4
}
