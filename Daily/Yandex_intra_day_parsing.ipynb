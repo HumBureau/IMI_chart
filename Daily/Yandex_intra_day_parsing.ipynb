{
 "cells": [
  {
   "cell_type": "markdown",
   "metadata": {},
   "source": [
    "### Yandex Music - внутридневной парсинг чарта"
   ]
  },
  {
   "cell_type": "code",
   "execution_count": null,
   "metadata": {},
   "outputs": [],
   "source": [
    "#данный скрипт:\n",
    "\n",
    "## парсит чарт яндекса весь день с периодичностью в полчаса\n",
    "\n",
    "# Время запуска скрипта: 00:30.\n",
    "\n",
    "#на выходе:\n",
    "#1) после каждого парсинга обновляет внутридневные данные -- all_yandex_intra_daily.csv\n",
    "#2) в полночь создает чарт яндекса за прошедший день и обновляет all_yandex.csv"
   ]
  },
  {
   "cell_type": "code",
   "execution_count": null,
   "metadata": {},
   "outputs": [],
   "source": [
    "import pandas as pd\n",
    "import re\n",
    "import requests\n",
    "from bs4 import BeautifulSoup\n",
    "from time import sleep\n",
    "from random import randint\n",
    "import datetime\n",
    "from datetime import datetime\n",
    "from dateutil.relativedelta import relativedelta\n",
    "from time import sleep"
   ]
  },
  {
   "cell_type": "code",
   "execution_count": null,
   "metadata": {},
   "outputs": [],
   "source": [
    "#базовая ссылка на последний актуальный ежедневный чарт по России\n",
    "base_url = 'https://music.yandex.ru/chart'\n",
    "\n",
    "#создаем внутридневную базу данных\n",
    "yandex_music_top_100_daily = pd.DataFrame(columns=[\"rank\", \"title\", \"artist\"])\n",
    "\n",
    "#парсинг:\n",
    "today = datetime.strftime(datetime.now(),\"%d/%m/%Y\")\n",
    "end_time = datetime.strptime(today+ \" 23:59\", \"%d/%m/%Y %H:%M\")\n",
    "\n",
    "n_of_scrapes =0 #счетчик \n",
    "\n",
    "while datetime.now() <= end_time:\n",
    "    \n",
    "    r = requests.get(base_url)\n",
    "#на всякий случай поставим на паузу\n",
    "    sleep(3)\n",
    "#находим в верстке сайта интересующие нас части\n",
    "    soup = BeautifulSoup(r.text, 'html.parser')\n",
    "    songs = soup.findAll('div', attrs={'class':'d-track__name'})\n",
    "    artists = soup.findAll('span', attrs={'class':'d-track__artists'})\n",
    "    full_id = [j+i for i in songs for j in artists]\n",
    "#делаем список вторичных названий песен (слов вроде remix, cover, и тд), чтобы они не сливались с названиями \n",
    "    sec_titles = soup.findAll('span', attrs={'class':'d-track__version deco-typo-secondary'})\n",
    "    sec_titles_clean = [i.get_text() for i in sec_titles]\n",
    "    sec_titles_clean = sorted(sec_titles_clean, reverse=True, key=len)\n",
    "\n",
    "#чистим названия песен и артистов\n",
    "    songs_clean = [i.get_text() for i in songs]\n",
    "    new_l=[]\n",
    "    for i in songs_clean:\n",
    "        for j in sec_titles_clean:\n",
    "            if j in i:\n",
    "                v = i.replace(j, \" (\"+j+\")\")\n",
    "                break\n",
    "            else:\n",
    "                v = i\n",
    "        new_l.append(v)\n",
    "    songs_clean = new_l\n",
    "    artists_clean = [i.get_text() for i in artists]\n",
    "\n",
    "    yandex_music_top_100_daily_now = pd.DataFrame()\n",
    "    yandex_music_top_100_daily_now['title'] = songs_clean\n",
    "    yandex_music_top_100_daily_now['artist'] = artists_clean\n",
    "    yandex_music_top_100_daily_now['rank'] = yandex_music_top_100_daily_now.reset_index().index +1\n",
    "    yandex_music_top_100_daily_now= yandex_music_top_100_daily_now[['rank', 'title', 'artist']]\n",
    "    yandex_music_top_100_daily_now[\"time\"] = datetime.now().strftime(\"%d/%m/%Y %H:%M:%S\")\n",
    "    \n",
    "    yandex_music_top_100_daily = yandex_music_top_100_daily.append(yandex_music_top_100_daily_now, ignore_index = True)\n",
    "    n_of_scrapes +=1 \n",
    "    sleep(1800) #засыпаем на полчаса - примерная периодичность обновления чарта    "
   ]
  },
  {
   "cell_type": "code",
   "execution_count": null,
   "metadata": {},
   "outputs": [],
   "source": [
    "#сохраняем внутридневные данные\n",
    "yandex_music_top_100_daily.to_csv(\"all_yandex_intra_daily.csv\", mode='a', encoding = \"utf-8\")"
   ]
  },
  {
   "cell_type": "code",
   "execution_count": null,
   "metadata": {
    "scrolled": true
   },
   "outputs": [],
   "source": [
    "#усредняем данные за день и получаем чарт дня \n",
    "\n",
    "yandex_daily_avg = pd.DataFrame(columns = ['raw_rank', 'title', 'artist', \"date\"])\n",
    "\n",
    "df = pd.read_csv(\"all_yandex_intra_daily.csv\") \n",
    "df[\"full_id\"] = df[\"title\"]+\"#bh#_#bh#\"+df[\"artist\"] #кодируем песню, чтобы избежать путаницы с одинаковыми названиями\n",
    "\n",
    "for i in set(list(df[\"full_id\"])):\n",
    "    s_df = df[df[\"full_id\"]==i] #таблица с одной песней\n",
    "    l_w_ranks = list(s_df[\"rank\"])    \n",
    "    delta = n_of_scrapes - len(s_df) \n",
    "    for i in range(0,delta):\n",
    "        l_w_ranks.append(101) #присуждаем песне 101-ю строчку в те моменты, когда она не попала в чарт \n",
    "        \n",
    "    avg_rank = sum(l_w_ranks)/n_of_scrapes #считаем среднюю строку песни \n",
    "    add_df = pd.DataFrame() \n",
    "    add_df[\"raw_rank\"] = [avg_rank]\n",
    "    add_df[\"title\"] = i.split(\"#bh#_#bh#\")[0]\n",
    "    add_df[\"artist\"] = i.split(\"#bh#_#bh#\")[1]\n",
    "    add_df[\"date\"] = list(s_df[\"time\"])[0].split(\" \")[0] #записываем день\n",
    "    yandex_daily_avg = yandex_daily_avg.append(add_df, ignore_index=True)\n",
    "\n",
    "yandex_daily_avg.sort_values(by=['raw_rank'], inplace=True)\n",
    "yandex_daily_avg['rank'] = yandex_daily_avg.reset_index().index +1\n",
    "yandex_daily_avg.reset_index(inplace=True)\n",
    "yandex_daily_avg.drop(yandex_daily_avg.columns[[0]], axis=1) #удаляем старый индекс\n",
    "yandex_daily_avg.drop(yandex_daily_avg.columns[[0]], axis=1) #удаляем raw_rank\n",
    "yandex_daily_avg=yandex_daily_avg[[\"rank\", 'title', 'artist', \"date\"]]"
   ]
  },
  {
   "cell_type": "code",
   "execution_count": null,
   "metadata": {},
   "outputs": [],
   "source": [
    "#сохраняем чарт дня, обновляя базу all_yandex \n",
    "yandex_daily_avg.to_csv(\"all_yandex.csv\", mode='a', encoding = \"utf-8\")"
   ]
  }
 ],
 "metadata": {
  "kernelspec": {
   "display_name": "Python 3",
   "language": "python",
   "name": "python3"
  },
  "language_info": {
   "codemirror_mode": {
    "name": "ipython",
    "version": 3
   },
   "file_extension": ".py",
   "mimetype": "text/x-python",
   "name": "python",
   "nbconvert_exporter": "python",
   "pygments_lexer": "ipython3",
   "version": "3.8.3"
  }
 },
 "nbformat": 4,
 "nbformat_minor": 4
}
